{
  "nbformat": 4,
  "nbformat_minor": 0,
  "metadata": {
    "colab": {
      "provenance": [],
      "authorship_tag": "ABX9TyM5On45fPQs6ZLLfL3B0T51",
      "include_colab_link": true
    },
    "kernelspec": {
      "name": "python3",
      "display_name": "Python 3"
    },
    "language_info": {
      "name": "python"
    }
  },
  "cells": [
    {
      "cell_type": "markdown",
      "metadata": {
        "id": "view-in-github",
        "colab_type": "text"
      },
      "source": [
        "<a href=\"https://colab.research.google.com/github/Abs-CV/3D-Modelling/blob/main/Creating_a_cube_in_3D_stl.ipynb\" target=\"_parent\"><img src=\"https://colab.research.google.com/assets/colab-badge.svg\" alt=\"Open In Colab\"/></a>"
      ]
    },
    {
      "cell_type": "markdown",
      "metadata": {
        "id": "4j12wx_zoUfn"
      },
      "source": [
        "Install Numpy-stl library\n"
      ]
    },
    {
      "cell_type": "code",
      "metadata": {
        "id": "Fyn8m5uunzCx",
        "outputId": "0b40f5cf-24f4-42f3-8a67-016e6c8829bb",
        "colab": {
          "base_uri": "https://localhost:8080/"
        }
      },
      "source": [
        "!pip3 install numpy-stl"
      ],
      "execution_count": null,
      "outputs": [
        {
          "output_type": "stream",
          "name": "stdout",
          "text": [
            "Looking in indexes: https://pypi.org/simple, https://us-python.pkg.dev/colab-wheels/public/simple/\n",
            "Collecting numpy-stl\n",
            "  Downloading numpy_stl-3.0.0-py3-none-any.whl (19 kB)\n",
            "Requirement already satisfied: python-utils>=3.4.5 in /usr/local/lib/python3.8/dist-packages (from numpy-stl) (3.4.5)\n",
            "Requirement already satisfied: numpy in /usr/local/lib/python3.8/dist-packages (from numpy-stl) (1.21.6)\n",
            "Installing collected packages: numpy-stl\n",
            "Successfully installed numpy-stl-3.0.0\n"
          ]
        }
      ]
    },
    {
      "cell_type": "markdown",
      "metadata": {
        "id": "e3fOWmEJpUIC"
      },
      "source": [
        "Simple example on how to create a cube using triangles for faces"
      ]
    },
    {
      "cell_type": "code",
      "metadata": {
        "id": "ySv7ds_tpUga",
        "outputId": "714c9a4b-13bf-4755-ecfb-2200b1e2ba98",
        "colab": {
          "base_uri": "https://localhost:8080/"
        }
      },
      "source": [
        "import numpy as np\n",
        "from stl import mesh\n",
        "\n",
        "# Define the 8 vertices of the cube\n",
        "vertices = np.array([\\\n",
        "    [-1, -1, -1],\n",
        "    [+1, -1, -1],\n",
        "    [+1, +1, -1],\n",
        "    [-1, +1, -1],\n",
        "    [-1, -1, +1],\n",
        "    [+1, -1, +1],\n",
        "    [+1, +1, +1],\n",
        "    [-1, +1, +1]])\n",
        "# Define the 12 triangles composing the cube\n",
        "faces = np.array([\\\n",
        "    [0,3,1],\n",
        "    [1,3,2],\n",
        "    [0,4,7],\n",
        "    [0,7,3],\n",
        "    [4,5,6],\n",
        "    [4,6,7],\n",
        "    [5,1,2],\n",
        "    [5,2,6],\n",
        "    [2,3,6],\n",
        "    [3,7,6],\n",
        "    [0,1,5],\n",
        "    [0,5,4]])\n",
        "\n",
        "# Create the mesh\n",
        "cube = mesh.Mesh(np.zeros(faces.shape[0], dtype=mesh.Mesh.dtype))\n",
        "\n",
        "for i, f in enumerate(faces):\n",
        "    for j in range(3):\n",
        "        print(vertices[f[j]])\n",
        "        cube.vectors[i][j] = vertices[f[j]]\n",
        "\n",
        "\n",
        "# Write the mesh to file \"cube.stl\"\n",
        "cube.save('cube.stl')"
      ],
      "execution_count": null,
      "outputs": [
        {
          "output_type": "stream",
          "name": "stdout",
          "text": [
            "[-1 -1 -1]\n",
            "[-1  1 -1]\n",
            "[ 1 -1 -1]\n",
            "[ 1 -1 -1]\n",
            "[-1  1 -1]\n",
            "[ 1  1 -1]\n",
            "[-1 -1 -1]\n",
            "[-1 -1  1]\n",
            "[-1  1  1]\n",
            "[-1 -1 -1]\n",
            "[-1  1  1]\n",
            "[-1  1 -1]\n",
            "[-1 -1  1]\n",
            "[ 1 -1  1]\n",
            "[1 1 1]\n",
            "[-1 -1  1]\n",
            "[1 1 1]\n",
            "[-1  1  1]\n",
            "[ 1 -1  1]\n",
            "[ 1 -1 -1]\n",
            "[ 1  1 -1]\n",
            "[ 1 -1  1]\n",
            "[ 1  1 -1]\n",
            "[1 1 1]\n",
            "[ 1  1 -1]\n",
            "[-1  1 -1]\n",
            "[1 1 1]\n",
            "[-1  1 -1]\n",
            "[-1  1  1]\n",
            "[1 1 1]\n",
            "[-1 -1 -1]\n",
            "[ 1 -1 -1]\n",
            "[ 1 -1  1]\n",
            "[-1 -1 -1]\n",
            "[ 1 -1  1]\n",
            "[-1 -1  1]\n"
          ]
        }
      ]
    }
  ]
}